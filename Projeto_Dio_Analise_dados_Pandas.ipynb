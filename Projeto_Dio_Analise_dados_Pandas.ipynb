{
  "nbformat": 4,
  "nbformat_minor": 0,
  "metadata": {
    "colab": {
      "provenance": [],
      "authorship_tag": "ABX9TyM4z0C6/D/5fRDp1FccaRGP",
      "include_colab_link": true
    },
    "kernelspec": {
      "name": "python3",
      "display_name": "Python 3"
    },
    "language_info": {
      "name": "python"
    }
  },
  "cells": [
    {
      "cell_type": "markdown",
      "metadata": {
        "id": "view-in-github",
        "colab_type": "text"
      },
      "source": [
        "<a href=\"https://colab.research.google.com/github/Gabriel-kopke-jr/dio-data-analisys/blob/main/Projeto_Dio_Analise_dados_Pandas.ipynb\" target=\"_parent\"><img src=\"https://colab.research.google.com/assets/colab-badge.svg\" alt=\"Open In Colab\"/></a>"
      ]
    },
    {
      "cell_type": "markdown",
      "source": [
        "# Importando o dataset **Product Sales - Detail 2023** e as libs utilizadas"
      ],
      "metadata": {
        "id": "zP9CxcmxxKlL"
      }
    },
    {
      "cell_type": "code",
      "execution_count": 19,
      "metadata": {
        "id": "AWglX3DKui3T"
      },
      "outputs": [],
      "source": [
        "import pandas as pd\n",
        "import numpy as np\n",
        "from datetime import datetime\n",
        "import seaborn as sns"
      ]
    },
    {
      "cell_type": "code",
      "source": [
        "def take_name_products(code_product:int,df)-> str:\n",
        "  return list(df.query(f'cdProduto == {code_product}')['nomeProduto'])[0]"
      ],
      "metadata": {
        "id": "O21EbeV_XNb8"
      },
      "execution_count": 102,
      "outputs": []
    },
    {
      "cell_type": "markdown",
      "source": [
        "# Processo de leitura do arquivo"
      ],
      "metadata": {
        "id": "WjbDMFvk0CYn"
      }
    },
    {
      "cell_type": "markdown",
      "source": [
        "## Importando o dataset"
      ],
      "metadata": {
        "id": "Tg2O6ezR1Qoa"
      }
    },
    {
      "cell_type": "code",
      "source": [
        "sales = pd.read_excel('DetailSales.xlsx')"
      ],
      "metadata": {
        "id": "QxyG2gi00BfB"
      },
      "execution_count": 4,
      "outputs": []
    },
    {
      "cell_type": "code",
      "source": [
        "sales.head()"
      ],
      "metadata": {
        "colab": {
          "base_uri": "https://localhost:8080/",
          "height": 206
        },
        "id": "fI-6VTVM0O4H",
        "outputId": "5052b6d4-dc1a-42c8-c545-2757679a2475"
      },
      "execution_count": 5,
      "outputs": [
        {
          "output_type": "execute_result",
          "data": {
            "text/plain": [
              "         id  Orden ID  Producto           Nombre  Cantidad  Precio  Total  \\\n",
              "0  3b1c962d  e72de456        50  COLOR RAIZ X50G         3     700   2100   \n",
              "1  037b90c1  52ad5614        50  COLOR RAIZ X50G         4     700   2800   \n",
              "2  7addf8af  d1c1e8db        50  COLOR RAIZ X50G         6     700   4200   \n",
              "3  7c6dc67f  c7b6cf8c        50  COLOR RAIZ X50G        12     700   8400   \n",
              "4  69b6d156  1a248fee        50  COLOR RAIZ X50G         6     700   4200   \n",
              "\n",
              "   Vendedor                Fecha Usuario               Creado  Impuesto  \n",
              "0  9f04044e  2021-01-08 00:00:00   ADMIN  2021-12-06 06:41:00      1.19  \n",
              "1  9f04044e  2021-01-10 00:00:00   ADMIN  2021-12-06 08:11:00      1.19  \n",
              "2  9f04044e  2021-02-08 00:00:00   ADMIN  2021-12-06 08:56:00      1.19  \n",
              "3  9f04044e  2021-02-08 00:00:00   ADMIN  2021-12-06 08:59:00      1.19  \n",
              "4  c5abb107  2021-02-10 00:00:00   ADMIN  2021-12-06 09:35:00      1.19  "
            ],
            "text/html": [
              "\n",
              "  <div id=\"df-456b59f7-0d72-4e87-b945-c8d4cfc9ce96\">\n",
              "    <div class=\"colab-df-container\">\n",
              "      <div>\n",
              "<style scoped>\n",
              "    .dataframe tbody tr th:only-of-type {\n",
              "        vertical-align: middle;\n",
              "    }\n",
              "\n",
              "    .dataframe tbody tr th {\n",
              "        vertical-align: top;\n",
              "    }\n",
              "\n",
              "    .dataframe thead th {\n",
              "        text-align: right;\n",
              "    }\n",
              "</style>\n",
              "<table border=\"1\" class=\"dataframe\">\n",
              "  <thead>\n",
              "    <tr style=\"text-align: right;\">\n",
              "      <th></th>\n",
              "      <th>id</th>\n",
              "      <th>Orden ID</th>\n",
              "      <th>Producto</th>\n",
              "      <th>Nombre</th>\n",
              "      <th>Cantidad</th>\n",
              "      <th>Precio</th>\n",
              "      <th>Total</th>\n",
              "      <th>Vendedor</th>\n",
              "      <th>Fecha</th>\n",
              "      <th>Usuario</th>\n",
              "      <th>Creado</th>\n",
              "      <th>Impuesto</th>\n",
              "    </tr>\n",
              "  </thead>\n",
              "  <tbody>\n",
              "    <tr>\n",
              "      <th>0</th>\n",
              "      <td>3b1c962d</td>\n",
              "      <td>e72de456</td>\n",
              "      <td>50</td>\n",
              "      <td>COLOR RAIZ X50G</td>\n",
              "      <td>3</td>\n",
              "      <td>700</td>\n",
              "      <td>2100</td>\n",
              "      <td>9f04044e</td>\n",
              "      <td>2021-01-08 00:00:00</td>\n",
              "      <td>ADMIN</td>\n",
              "      <td>2021-12-06 06:41:00</td>\n",
              "      <td>1.19</td>\n",
              "    </tr>\n",
              "    <tr>\n",
              "      <th>1</th>\n",
              "      <td>037b90c1</td>\n",
              "      <td>52ad5614</td>\n",
              "      <td>50</td>\n",
              "      <td>COLOR RAIZ X50G</td>\n",
              "      <td>4</td>\n",
              "      <td>700</td>\n",
              "      <td>2800</td>\n",
              "      <td>9f04044e</td>\n",
              "      <td>2021-01-10 00:00:00</td>\n",
              "      <td>ADMIN</td>\n",
              "      <td>2021-12-06 08:11:00</td>\n",
              "      <td>1.19</td>\n",
              "    </tr>\n",
              "    <tr>\n",
              "      <th>2</th>\n",
              "      <td>7addf8af</td>\n",
              "      <td>d1c1e8db</td>\n",
              "      <td>50</td>\n",
              "      <td>COLOR RAIZ X50G</td>\n",
              "      <td>6</td>\n",
              "      <td>700</td>\n",
              "      <td>4200</td>\n",
              "      <td>9f04044e</td>\n",
              "      <td>2021-02-08 00:00:00</td>\n",
              "      <td>ADMIN</td>\n",
              "      <td>2021-12-06 08:56:00</td>\n",
              "      <td>1.19</td>\n",
              "    </tr>\n",
              "    <tr>\n",
              "      <th>3</th>\n",
              "      <td>7c6dc67f</td>\n",
              "      <td>c7b6cf8c</td>\n",
              "      <td>50</td>\n",
              "      <td>COLOR RAIZ X50G</td>\n",
              "      <td>12</td>\n",
              "      <td>700</td>\n",
              "      <td>8400</td>\n",
              "      <td>9f04044e</td>\n",
              "      <td>2021-02-08 00:00:00</td>\n",
              "      <td>ADMIN</td>\n",
              "      <td>2021-12-06 08:59:00</td>\n",
              "      <td>1.19</td>\n",
              "    </tr>\n",
              "    <tr>\n",
              "      <th>4</th>\n",
              "      <td>69b6d156</td>\n",
              "      <td>1a248fee</td>\n",
              "      <td>50</td>\n",
              "      <td>COLOR RAIZ X50G</td>\n",
              "      <td>6</td>\n",
              "      <td>700</td>\n",
              "      <td>4200</td>\n",
              "      <td>c5abb107</td>\n",
              "      <td>2021-02-10 00:00:00</td>\n",
              "      <td>ADMIN</td>\n",
              "      <td>2021-12-06 09:35:00</td>\n",
              "      <td>1.19</td>\n",
              "    </tr>\n",
              "  </tbody>\n",
              "</table>\n",
              "</div>\n",
              "      <button class=\"colab-df-convert\" onclick=\"convertToInteractive('df-456b59f7-0d72-4e87-b945-c8d4cfc9ce96')\"\n",
              "              title=\"Convert this dataframe to an interactive table.\"\n",
              "              style=\"display:none;\">\n",
              "        \n",
              "  <svg xmlns=\"http://www.w3.org/2000/svg\" height=\"24px\"viewBox=\"0 0 24 24\"\n",
              "       width=\"24px\">\n",
              "    <path d=\"M0 0h24v24H0V0z\" fill=\"none\"/>\n",
              "    <path d=\"M18.56 5.44l.94 2.06.94-2.06 2.06-.94-2.06-.94-.94-2.06-.94 2.06-2.06.94zm-11 1L8.5 8.5l.94-2.06 2.06-.94-2.06-.94L8.5 2.5l-.94 2.06-2.06.94zm10 10l.94 2.06.94-2.06 2.06-.94-2.06-.94-.94-2.06-.94 2.06-2.06.94z\"/><path d=\"M17.41 7.96l-1.37-1.37c-.4-.4-.92-.59-1.43-.59-.52 0-1.04.2-1.43.59L10.3 9.45l-7.72 7.72c-.78.78-.78 2.05 0 2.83L4 21.41c.39.39.9.59 1.41.59.51 0 1.02-.2 1.41-.59l7.78-7.78 2.81-2.81c.8-.78.8-2.07 0-2.86zM5.41 20L4 18.59l7.72-7.72 1.47 1.35L5.41 20z\"/>\n",
              "  </svg>\n",
              "      </button>\n",
              "      \n",
              "  <style>\n",
              "    .colab-df-container {\n",
              "      display:flex;\n",
              "      flex-wrap:wrap;\n",
              "      gap: 12px;\n",
              "    }\n",
              "\n",
              "    .colab-df-convert {\n",
              "      background-color: #E8F0FE;\n",
              "      border: none;\n",
              "      border-radius: 50%;\n",
              "      cursor: pointer;\n",
              "      display: none;\n",
              "      fill: #1967D2;\n",
              "      height: 32px;\n",
              "      padding: 0 0 0 0;\n",
              "      width: 32px;\n",
              "    }\n",
              "\n",
              "    .colab-df-convert:hover {\n",
              "      background-color: #E2EBFA;\n",
              "      box-shadow: 0px 1px 2px rgba(60, 64, 67, 0.3), 0px 1px 3px 1px rgba(60, 64, 67, 0.15);\n",
              "      fill: #174EA6;\n",
              "    }\n",
              "\n",
              "    [theme=dark] .colab-df-convert {\n",
              "      background-color: #3B4455;\n",
              "      fill: #D2E3FC;\n",
              "    }\n",
              "\n",
              "    [theme=dark] .colab-df-convert:hover {\n",
              "      background-color: #434B5C;\n",
              "      box-shadow: 0px 1px 3px 1px rgba(0, 0, 0, 0.15);\n",
              "      filter: drop-shadow(0px 1px 2px rgba(0, 0, 0, 0.3));\n",
              "      fill: #FFFFFF;\n",
              "    }\n",
              "  </style>\n",
              "\n",
              "      <script>\n",
              "        const buttonEl =\n",
              "          document.querySelector('#df-456b59f7-0d72-4e87-b945-c8d4cfc9ce96 button.colab-df-convert');\n",
              "        buttonEl.style.display =\n",
              "          google.colab.kernel.accessAllowed ? 'block' : 'none';\n",
              "\n",
              "        async function convertToInteractive(key) {\n",
              "          const element = document.querySelector('#df-456b59f7-0d72-4e87-b945-c8d4cfc9ce96');\n",
              "          const dataTable =\n",
              "            await google.colab.kernel.invokeFunction('convertToInteractive',\n",
              "                                                     [key], {});\n",
              "          if (!dataTable) return;\n",
              "\n",
              "          const docLinkHtml = 'Like what you see? Visit the ' +\n",
              "            '<a target=\"_blank\" href=https://colab.research.google.com/notebooks/data_table.ipynb>data table notebook</a>'\n",
              "            + ' to learn more about interactive tables.';\n",
              "          element.innerHTML = '';\n",
              "          dataTable['output_type'] = 'display_data';\n",
              "          await google.colab.output.renderOutput(dataTable, element);\n",
              "          const docLink = document.createElement('div');\n",
              "          docLink.innerHTML = docLinkHtml;\n",
              "          element.appendChild(docLink);\n",
              "        }\n",
              "      </script>\n",
              "    </div>\n",
              "  </div>\n",
              "  "
            ]
          },
          "metadata": {},
          "execution_count": 5
        }
      ]
    },
    {
      "cell_type": "markdown",
      "source": [
        "## Alterando traduzindo as colunas do dataframe"
      ],
      "metadata": {
        "id": "eSBVH15M1ToZ"
      }
    },
    {
      "cell_type": "code",
      "source": [
        "dict_translate_columns = {'id':'id',\n",
        "    'Orden ID':'id_ordem',\n",
        "    'Producto':'cdProduto',\n",
        "    'Nombre':'nomeProduto',\n",
        "    'Cantidad':'quantidade',\n",
        "    'Precio':'precoUnitario',\n",
        "    'Total':'precoTotal',\n",
        "    'Vendedor':'vendedor',\n",
        "    'Fecha':'dtCriacao',\n",
        "    'Usuario':'usuario',\n",
        "    'Creado':'dtInicioEntrega',\n",
        "    'Impuesto':'imposto'}"
      ],
      "metadata": {
        "id": "jzjR9q7j56qF"
      },
      "execution_count": 6,
      "outputs": []
    },
    {
      "cell_type": "code",
      "source": [
        "sales.rename(columns=dict_translate_columns,inplace = True)"
      ],
      "metadata": {
        "id": "RRQVXSSi1X-K"
      },
      "execution_count": 7,
      "outputs": []
    },
    {
      "cell_type": "markdown",
      "source": [
        "## Remoção das colunas usuario e imposto que não farão parte da análise"
      ],
      "metadata": {
        "id": "gAyq76DR68g_"
      }
    },
    {
      "cell_type": "code",
      "source": [
        "sales.drop(columns= ['usuario','imposto'],inplace = True)"
      ],
      "metadata": {
        "id": "bKjSrP336Glo"
      },
      "execution_count": 8,
      "outputs": []
    },
    {
      "cell_type": "markdown",
      "source": [
        "# Processo de limpeza de dados"
      ],
      "metadata": {
        "id": "LnGb5EdtK9oV"
      }
    },
    {
      "cell_type": "code",
      "source": [
        "valores_null = [{column: sales[column].isnull().sum()}for column in sales.columns if sales[column].isnull().sum() != 0]\n",
        "valores_na = [{column: sales[column].isna().sum()}for column in sales.columns if sales[column].isna().sum() != 0]"
      ],
      "metadata": {
        "id": "egT7VycjLAPM"
      },
      "execution_count": 9,
      "outputs": []
    },
    {
      "cell_type": "code",
      "source": [
        "valores_null"
      ],
      "metadata": {
        "colab": {
          "base_uri": "https://localhost:8080/"
        },
        "id": "UTCShbyk4Yis",
        "outputId": "208f4073-b30e-4a6c-983b-3a71155f395f"
      },
      "execution_count": 10,
      "outputs": [
        {
          "output_type": "execute_result",
          "data": {
            "text/plain": [
              "[]"
            ]
          },
          "metadata": {},
          "execution_count": 10
        }
      ]
    },
    {
      "cell_type": "code",
      "source": [
        "valores_na"
      ],
      "metadata": {
        "colab": {
          "base_uri": "https://localhost:8080/"
        },
        "id": "NJ364sfZ43kJ",
        "outputId": "09d1a019-7a6e-4ad9-bafa-fea6f8fc1078"
      },
      "execution_count": 11,
      "outputs": [
        {
          "output_type": "execute_result",
          "data": {
            "text/plain": [
              "[]"
            ]
          },
          "metadata": {},
          "execution_count": 11
        }
      ]
    },
    {
      "cell_type": "markdown",
      "source": [
        "Percebe-se que não existem valores do tipo Null e do tipo NaN em nenhuma das colunas"
      ],
      "metadata": {
        "id": "WH8PipKD5wxp"
      }
    },
    {
      "cell_type": "markdown",
      "source": [
        "## Unificando as datas para o formato datetime"
      ],
      "metadata": {
        "id": "uE0yavIvjwEm"
      }
    },
    {
      "cell_type": "code",
      "source": [
        "sales"
      ],
      "metadata": {
        "colab": {
          "base_uri": "https://localhost:8080/",
          "height": 424
        },
        "id": "zceejLP05ne6",
        "outputId": "1c60bb8b-f871-4a81-d271-6eb748ec5a2f"
      },
      "execution_count": 12,
      "outputs": [
        {
          "output_type": "execute_result",
          "data": {
            "text/plain": [
              "             id  id_ordem  cdProduto               nomeProduto  quantidade  \\\n",
              "0      3b1c962d  e72de456         50           COLOR RAIZ X50G           3   \n",
              "1      037b90c1  52ad5614         50           COLOR RAIZ X50G           4   \n",
              "2      7addf8af  d1c1e8db         50           COLOR RAIZ X50G           6   \n",
              "3      7c6dc67f  c7b6cf8c         50           COLOR RAIZ X50G          12   \n",
              "4      69b6d156  1a248fee         50           COLOR RAIZ X50G           6   \n",
              "...         ...       ...        ...                       ...         ...   \n",
              "25153  93d37329  afbe1372        241      MANI TRITURADO X100g           4   \n",
              "25154  9115e6ca  5a0b9141        241      MANI TRITURADO X100g           4   \n",
              "25155  fda22a91  b79e3a87        242  POLVO DE HORNEAR X 500 G           4   \n",
              "25156  59091ce9  84e01d43        243           ANIS COMUN X20G           6   \n",
              "25157  413bce8c  099b611a        244            SAL NITRO X30G           6   \n",
              "\n",
              "       precoUnitario  precoTotal  vendedor            dtCriacao  \\\n",
              "0                700        2100  9f04044e  2021-01-08 00:00:00   \n",
              "1                700        2800  9f04044e  2021-01-10 00:00:00   \n",
              "2                700        4200  9f04044e  2021-02-08 00:00:00   \n",
              "3                700        8400  9f04044e  2021-02-08 00:00:00   \n",
              "4                700        4200  c5abb107  2021-02-10 00:00:00   \n",
              "...              ...         ...       ...                  ...   \n",
              "25153           1700        6800  9f04044e  2023-01-31 00:00:00   \n",
              "25154           1700        6800  9f04044e  2023-02-14 00:00:00   \n",
              "25155           7000       28000  9f04044e  2023-02-06 00:00:00   \n",
              "25156           1200        7200  c5abb107  2023-03-02 00:00:00   \n",
              "25157            800        4800  9f04044e  2023-03-13 00:00:00   \n",
              "\n",
              "           dtInicioEntrega  \n",
              "0      2021-12-06 06:41:00  \n",
              "1      2021-12-06 08:11:00  \n",
              "2      2021-12-06 08:56:00  \n",
              "3      2021-12-06 08:59:00  \n",
              "4      2021-12-06 09:35:00  \n",
              "...                    ...  \n",
              "25153  2023-01-31 19:03:32  \n",
              "25154  2023-02-14 16:29:30  \n",
              "25155  2023-02-07 18:36:18  \n",
              "25156  2023-03-03 01:22:23  \n",
              "25157  2023-03-13 18:40:35  \n",
              "\n",
              "[25158 rows x 10 columns]"
            ],
            "text/html": [
              "\n",
              "  <div id=\"df-3b6f1c7b-b40e-4ee3-ab79-688d3a302d16\">\n",
              "    <div class=\"colab-df-container\">\n",
              "      <div>\n",
              "<style scoped>\n",
              "    .dataframe tbody tr th:only-of-type {\n",
              "        vertical-align: middle;\n",
              "    }\n",
              "\n",
              "    .dataframe tbody tr th {\n",
              "        vertical-align: top;\n",
              "    }\n",
              "\n",
              "    .dataframe thead th {\n",
              "        text-align: right;\n",
              "    }\n",
              "</style>\n",
              "<table border=\"1\" class=\"dataframe\">\n",
              "  <thead>\n",
              "    <tr style=\"text-align: right;\">\n",
              "      <th></th>\n",
              "      <th>id</th>\n",
              "      <th>id_ordem</th>\n",
              "      <th>cdProduto</th>\n",
              "      <th>nomeProduto</th>\n",
              "      <th>quantidade</th>\n",
              "      <th>precoUnitario</th>\n",
              "      <th>precoTotal</th>\n",
              "      <th>vendedor</th>\n",
              "      <th>dtCriacao</th>\n",
              "      <th>dtInicioEntrega</th>\n",
              "    </tr>\n",
              "  </thead>\n",
              "  <tbody>\n",
              "    <tr>\n",
              "      <th>0</th>\n",
              "      <td>3b1c962d</td>\n",
              "      <td>e72de456</td>\n",
              "      <td>50</td>\n",
              "      <td>COLOR RAIZ X50G</td>\n",
              "      <td>3</td>\n",
              "      <td>700</td>\n",
              "      <td>2100</td>\n",
              "      <td>9f04044e</td>\n",
              "      <td>2021-01-08 00:00:00</td>\n",
              "      <td>2021-12-06 06:41:00</td>\n",
              "    </tr>\n",
              "    <tr>\n",
              "      <th>1</th>\n",
              "      <td>037b90c1</td>\n",
              "      <td>52ad5614</td>\n",
              "      <td>50</td>\n",
              "      <td>COLOR RAIZ X50G</td>\n",
              "      <td>4</td>\n",
              "      <td>700</td>\n",
              "      <td>2800</td>\n",
              "      <td>9f04044e</td>\n",
              "      <td>2021-01-10 00:00:00</td>\n",
              "      <td>2021-12-06 08:11:00</td>\n",
              "    </tr>\n",
              "    <tr>\n",
              "      <th>2</th>\n",
              "      <td>7addf8af</td>\n",
              "      <td>d1c1e8db</td>\n",
              "      <td>50</td>\n",
              "      <td>COLOR RAIZ X50G</td>\n",
              "      <td>6</td>\n",
              "      <td>700</td>\n",
              "      <td>4200</td>\n",
              "      <td>9f04044e</td>\n",
              "      <td>2021-02-08 00:00:00</td>\n",
              "      <td>2021-12-06 08:56:00</td>\n",
              "    </tr>\n",
              "    <tr>\n",
              "      <th>3</th>\n",
              "      <td>7c6dc67f</td>\n",
              "      <td>c7b6cf8c</td>\n",
              "      <td>50</td>\n",
              "      <td>COLOR RAIZ X50G</td>\n",
              "      <td>12</td>\n",
              "      <td>700</td>\n",
              "      <td>8400</td>\n",
              "      <td>9f04044e</td>\n",
              "      <td>2021-02-08 00:00:00</td>\n",
              "      <td>2021-12-06 08:59:00</td>\n",
              "    </tr>\n",
              "    <tr>\n",
              "      <th>4</th>\n",
              "      <td>69b6d156</td>\n",
              "      <td>1a248fee</td>\n",
              "      <td>50</td>\n",
              "      <td>COLOR RAIZ X50G</td>\n",
              "      <td>6</td>\n",
              "      <td>700</td>\n",
              "      <td>4200</td>\n",
              "      <td>c5abb107</td>\n",
              "      <td>2021-02-10 00:00:00</td>\n",
              "      <td>2021-12-06 09:35:00</td>\n",
              "    </tr>\n",
              "    <tr>\n",
              "      <th>...</th>\n",
              "      <td>...</td>\n",
              "      <td>...</td>\n",
              "      <td>...</td>\n",
              "      <td>...</td>\n",
              "      <td>...</td>\n",
              "      <td>...</td>\n",
              "      <td>...</td>\n",
              "      <td>...</td>\n",
              "      <td>...</td>\n",
              "      <td>...</td>\n",
              "    </tr>\n",
              "    <tr>\n",
              "      <th>25153</th>\n",
              "      <td>93d37329</td>\n",
              "      <td>afbe1372</td>\n",
              "      <td>241</td>\n",
              "      <td>MANI TRITURADO X100g</td>\n",
              "      <td>4</td>\n",
              "      <td>1700</td>\n",
              "      <td>6800</td>\n",
              "      <td>9f04044e</td>\n",
              "      <td>2023-01-31 00:00:00</td>\n",
              "      <td>2023-01-31 19:03:32</td>\n",
              "    </tr>\n",
              "    <tr>\n",
              "      <th>25154</th>\n",
              "      <td>9115e6ca</td>\n",
              "      <td>5a0b9141</td>\n",
              "      <td>241</td>\n",
              "      <td>MANI TRITURADO X100g</td>\n",
              "      <td>4</td>\n",
              "      <td>1700</td>\n",
              "      <td>6800</td>\n",
              "      <td>9f04044e</td>\n",
              "      <td>2023-02-14 00:00:00</td>\n",
              "      <td>2023-02-14 16:29:30</td>\n",
              "    </tr>\n",
              "    <tr>\n",
              "      <th>25155</th>\n",
              "      <td>fda22a91</td>\n",
              "      <td>b79e3a87</td>\n",
              "      <td>242</td>\n",
              "      <td>POLVO DE HORNEAR X 500 G</td>\n",
              "      <td>4</td>\n",
              "      <td>7000</td>\n",
              "      <td>28000</td>\n",
              "      <td>9f04044e</td>\n",
              "      <td>2023-02-06 00:00:00</td>\n",
              "      <td>2023-02-07 18:36:18</td>\n",
              "    </tr>\n",
              "    <tr>\n",
              "      <th>25156</th>\n",
              "      <td>59091ce9</td>\n",
              "      <td>84e01d43</td>\n",
              "      <td>243</td>\n",
              "      <td>ANIS COMUN X20G</td>\n",
              "      <td>6</td>\n",
              "      <td>1200</td>\n",
              "      <td>7200</td>\n",
              "      <td>c5abb107</td>\n",
              "      <td>2023-03-02 00:00:00</td>\n",
              "      <td>2023-03-03 01:22:23</td>\n",
              "    </tr>\n",
              "    <tr>\n",
              "      <th>25157</th>\n",
              "      <td>413bce8c</td>\n",
              "      <td>099b611a</td>\n",
              "      <td>244</td>\n",
              "      <td>SAL NITRO X30G</td>\n",
              "      <td>6</td>\n",
              "      <td>800</td>\n",
              "      <td>4800</td>\n",
              "      <td>9f04044e</td>\n",
              "      <td>2023-03-13 00:00:00</td>\n",
              "      <td>2023-03-13 18:40:35</td>\n",
              "    </tr>\n",
              "  </tbody>\n",
              "</table>\n",
              "<p>25158 rows × 10 columns</p>\n",
              "</div>\n",
              "      <button class=\"colab-df-convert\" onclick=\"convertToInteractive('df-3b6f1c7b-b40e-4ee3-ab79-688d3a302d16')\"\n",
              "              title=\"Convert this dataframe to an interactive table.\"\n",
              "              style=\"display:none;\">\n",
              "        \n",
              "  <svg xmlns=\"http://www.w3.org/2000/svg\" height=\"24px\"viewBox=\"0 0 24 24\"\n",
              "       width=\"24px\">\n",
              "    <path d=\"M0 0h24v24H0V0z\" fill=\"none\"/>\n",
              "    <path d=\"M18.56 5.44l.94 2.06.94-2.06 2.06-.94-2.06-.94-.94-2.06-.94 2.06-2.06.94zm-11 1L8.5 8.5l.94-2.06 2.06-.94-2.06-.94L8.5 2.5l-.94 2.06-2.06.94zm10 10l.94 2.06.94-2.06 2.06-.94-2.06-.94-.94-2.06-.94 2.06-2.06.94z\"/><path d=\"M17.41 7.96l-1.37-1.37c-.4-.4-.92-.59-1.43-.59-.52 0-1.04.2-1.43.59L10.3 9.45l-7.72 7.72c-.78.78-.78 2.05 0 2.83L4 21.41c.39.39.9.59 1.41.59.51 0 1.02-.2 1.41-.59l7.78-7.78 2.81-2.81c.8-.78.8-2.07 0-2.86zM5.41 20L4 18.59l7.72-7.72 1.47 1.35L5.41 20z\"/>\n",
              "  </svg>\n",
              "      </button>\n",
              "      \n",
              "  <style>\n",
              "    .colab-df-container {\n",
              "      display:flex;\n",
              "      flex-wrap:wrap;\n",
              "      gap: 12px;\n",
              "    }\n",
              "\n",
              "    .colab-df-convert {\n",
              "      background-color: #E8F0FE;\n",
              "      border: none;\n",
              "      border-radius: 50%;\n",
              "      cursor: pointer;\n",
              "      display: none;\n",
              "      fill: #1967D2;\n",
              "      height: 32px;\n",
              "      padding: 0 0 0 0;\n",
              "      width: 32px;\n",
              "    }\n",
              "\n",
              "    .colab-df-convert:hover {\n",
              "      background-color: #E2EBFA;\n",
              "      box-shadow: 0px 1px 2px rgba(60, 64, 67, 0.3), 0px 1px 3px 1px rgba(60, 64, 67, 0.15);\n",
              "      fill: #174EA6;\n",
              "    }\n",
              "\n",
              "    [theme=dark] .colab-df-convert {\n",
              "      background-color: #3B4455;\n",
              "      fill: #D2E3FC;\n",
              "    }\n",
              "\n",
              "    [theme=dark] .colab-df-convert:hover {\n",
              "      background-color: #434B5C;\n",
              "      box-shadow: 0px 1px 3px 1px rgba(0, 0, 0, 0.15);\n",
              "      filter: drop-shadow(0px 1px 2px rgba(0, 0, 0, 0.3));\n",
              "      fill: #FFFFFF;\n",
              "    }\n",
              "  </style>\n",
              "\n",
              "      <script>\n",
              "        const buttonEl =\n",
              "          document.querySelector('#df-3b6f1c7b-b40e-4ee3-ab79-688d3a302d16 button.colab-df-convert');\n",
              "        buttonEl.style.display =\n",
              "          google.colab.kernel.accessAllowed ? 'block' : 'none';\n",
              "\n",
              "        async function convertToInteractive(key) {\n",
              "          const element = document.querySelector('#df-3b6f1c7b-b40e-4ee3-ab79-688d3a302d16');\n",
              "          const dataTable =\n",
              "            await google.colab.kernel.invokeFunction('convertToInteractive',\n",
              "                                                     [key], {});\n",
              "          if (!dataTable) return;\n",
              "\n",
              "          const docLinkHtml = 'Like what you see? Visit the ' +\n",
              "            '<a target=\"_blank\" href=https://colab.research.google.com/notebooks/data_table.ipynb>data table notebook</a>'\n",
              "            + ' to learn more about interactive tables.';\n",
              "          element.innerHTML = '';\n",
              "          dataTable['output_type'] = 'display_data';\n",
              "          await google.colab.output.renderOutput(dataTable, element);\n",
              "          const docLink = document.createElement('div');\n",
              "          docLink.innerHTML = docLinkHtml;\n",
              "          element.appendChild(docLink);\n",
              "        }\n",
              "      </script>\n",
              "    </div>\n",
              "  </div>\n",
              "  "
            ]
          },
          "metadata": {},
          "execution_count": 12
        }
      ]
    },
    {
      "cell_type": "code",
      "source": [
        "def change_values_data(lista:list)-> list:\n",
        "  aux = []\n",
        "  for element in lista:\n",
        "    if type(element) == type(str('a')):\n",
        "      data_datetime = datetime(int(element.split('/')[2]),int(element.split('/')[1]),int(element.split('/')[0]))\n",
        "      aux.append(data_datetime)\n",
        "    else:  \n",
        "      aux.append(element)\n",
        "  return aux"
      ],
      "metadata": {
        "id": "WXAoTeRs-PGO"
      },
      "execution_count": 13,
      "outputs": []
    },
    {
      "cell_type": "code",
      "source": [
        "sales['dtCriacao'] = change_values_data(sales['dtCriacao'])\n",
        "sales['dtInicioEntrega'] = change_values_data(sales['dtInicioEntrega'])"
      ],
      "metadata": {
        "id": "tgo0M5ingEtM"
      },
      "execution_count": 14,
      "outputs": []
    },
    {
      "cell_type": "code",
      "source": [
        "sales"
      ],
      "metadata": {
        "colab": {
          "base_uri": "https://localhost:8080/",
          "height": 424
        },
        "id": "8Y3D-GZc5Mbi",
        "outputId": "8286432b-25f1-4ebc-922c-3dd03b59201c"
      },
      "execution_count": 15,
      "outputs": [
        {
          "output_type": "execute_result",
          "data": {
            "text/plain": [
              "             id  id_ordem  cdProduto               nomeProduto  quantidade  \\\n",
              "0      3b1c962d  e72de456         50           COLOR RAIZ X50G           3   \n",
              "1      037b90c1  52ad5614         50           COLOR RAIZ X50G           4   \n",
              "2      7addf8af  d1c1e8db         50           COLOR RAIZ X50G           6   \n",
              "3      7c6dc67f  c7b6cf8c         50           COLOR RAIZ X50G          12   \n",
              "4      69b6d156  1a248fee         50           COLOR RAIZ X50G           6   \n",
              "...         ...       ...        ...                       ...         ...   \n",
              "25153  93d37329  afbe1372        241      MANI TRITURADO X100g           4   \n",
              "25154  9115e6ca  5a0b9141        241      MANI TRITURADO X100g           4   \n",
              "25155  fda22a91  b79e3a87        242  POLVO DE HORNEAR X 500 G           4   \n",
              "25156  59091ce9  84e01d43        243           ANIS COMUN X20G           6   \n",
              "25157  413bce8c  099b611a        244            SAL NITRO X30G           6   \n",
              "\n",
              "       precoUnitario  precoTotal  vendedor  dtCriacao     dtInicioEntrega  \n",
              "0                700        2100  9f04044e 2021-01-08 2021-12-06 06:41:00  \n",
              "1                700        2800  9f04044e 2021-01-10 2021-12-06 08:11:00  \n",
              "2                700        4200  9f04044e 2021-02-08 2021-12-06 08:56:00  \n",
              "3                700        8400  9f04044e 2021-02-08 2021-12-06 08:59:00  \n",
              "4                700        4200  c5abb107 2021-02-10 2021-12-06 09:35:00  \n",
              "...              ...         ...       ...        ...                 ...  \n",
              "25153           1700        6800  9f04044e 2023-01-31 2023-01-31 19:03:32  \n",
              "25154           1700        6800  9f04044e 2023-02-14 2023-02-14 16:29:30  \n",
              "25155           7000       28000  9f04044e 2023-02-06 2023-02-07 18:36:18  \n",
              "25156           1200        7200  c5abb107 2023-03-02 2023-03-03 01:22:23  \n",
              "25157            800        4800  9f04044e 2023-03-13 2023-03-13 18:40:35  \n",
              "\n",
              "[25158 rows x 10 columns]"
            ],
            "text/html": [
              "\n",
              "  <div id=\"df-6066cb1c-4ca1-4c63-905a-3a62494b27ff\">\n",
              "    <div class=\"colab-df-container\">\n",
              "      <div>\n",
              "<style scoped>\n",
              "    .dataframe tbody tr th:only-of-type {\n",
              "        vertical-align: middle;\n",
              "    }\n",
              "\n",
              "    .dataframe tbody tr th {\n",
              "        vertical-align: top;\n",
              "    }\n",
              "\n",
              "    .dataframe thead th {\n",
              "        text-align: right;\n",
              "    }\n",
              "</style>\n",
              "<table border=\"1\" class=\"dataframe\">\n",
              "  <thead>\n",
              "    <tr style=\"text-align: right;\">\n",
              "      <th></th>\n",
              "      <th>id</th>\n",
              "      <th>id_ordem</th>\n",
              "      <th>cdProduto</th>\n",
              "      <th>nomeProduto</th>\n",
              "      <th>quantidade</th>\n",
              "      <th>precoUnitario</th>\n",
              "      <th>precoTotal</th>\n",
              "      <th>vendedor</th>\n",
              "      <th>dtCriacao</th>\n",
              "      <th>dtInicioEntrega</th>\n",
              "    </tr>\n",
              "  </thead>\n",
              "  <tbody>\n",
              "    <tr>\n",
              "      <th>0</th>\n",
              "      <td>3b1c962d</td>\n",
              "      <td>e72de456</td>\n",
              "      <td>50</td>\n",
              "      <td>COLOR RAIZ X50G</td>\n",
              "      <td>3</td>\n",
              "      <td>700</td>\n",
              "      <td>2100</td>\n",
              "      <td>9f04044e</td>\n",
              "      <td>2021-01-08</td>\n",
              "      <td>2021-12-06 06:41:00</td>\n",
              "    </tr>\n",
              "    <tr>\n",
              "      <th>1</th>\n",
              "      <td>037b90c1</td>\n",
              "      <td>52ad5614</td>\n",
              "      <td>50</td>\n",
              "      <td>COLOR RAIZ X50G</td>\n",
              "      <td>4</td>\n",
              "      <td>700</td>\n",
              "      <td>2800</td>\n",
              "      <td>9f04044e</td>\n",
              "      <td>2021-01-10</td>\n",
              "      <td>2021-12-06 08:11:00</td>\n",
              "    </tr>\n",
              "    <tr>\n",
              "      <th>2</th>\n",
              "      <td>7addf8af</td>\n",
              "      <td>d1c1e8db</td>\n",
              "      <td>50</td>\n",
              "      <td>COLOR RAIZ X50G</td>\n",
              "      <td>6</td>\n",
              "      <td>700</td>\n",
              "      <td>4200</td>\n",
              "      <td>9f04044e</td>\n",
              "      <td>2021-02-08</td>\n",
              "      <td>2021-12-06 08:56:00</td>\n",
              "    </tr>\n",
              "    <tr>\n",
              "      <th>3</th>\n",
              "      <td>7c6dc67f</td>\n",
              "      <td>c7b6cf8c</td>\n",
              "      <td>50</td>\n",
              "      <td>COLOR RAIZ X50G</td>\n",
              "      <td>12</td>\n",
              "      <td>700</td>\n",
              "      <td>8400</td>\n",
              "      <td>9f04044e</td>\n",
              "      <td>2021-02-08</td>\n",
              "      <td>2021-12-06 08:59:00</td>\n",
              "    </tr>\n",
              "    <tr>\n",
              "      <th>4</th>\n",
              "      <td>69b6d156</td>\n",
              "      <td>1a248fee</td>\n",
              "      <td>50</td>\n",
              "      <td>COLOR RAIZ X50G</td>\n",
              "      <td>6</td>\n",
              "      <td>700</td>\n",
              "      <td>4200</td>\n",
              "      <td>c5abb107</td>\n",
              "      <td>2021-02-10</td>\n",
              "      <td>2021-12-06 09:35:00</td>\n",
              "    </tr>\n",
              "    <tr>\n",
              "      <th>...</th>\n",
              "      <td>...</td>\n",
              "      <td>...</td>\n",
              "      <td>...</td>\n",
              "      <td>...</td>\n",
              "      <td>...</td>\n",
              "      <td>...</td>\n",
              "      <td>...</td>\n",
              "      <td>...</td>\n",
              "      <td>...</td>\n",
              "      <td>...</td>\n",
              "    </tr>\n",
              "    <tr>\n",
              "      <th>25153</th>\n",
              "      <td>93d37329</td>\n",
              "      <td>afbe1372</td>\n",
              "      <td>241</td>\n",
              "      <td>MANI TRITURADO X100g</td>\n",
              "      <td>4</td>\n",
              "      <td>1700</td>\n",
              "      <td>6800</td>\n",
              "      <td>9f04044e</td>\n",
              "      <td>2023-01-31</td>\n",
              "      <td>2023-01-31 19:03:32</td>\n",
              "    </tr>\n",
              "    <tr>\n",
              "      <th>25154</th>\n",
              "      <td>9115e6ca</td>\n",
              "      <td>5a0b9141</td>\n",
              "      <td>241</td>\n",
              "      <td>MANI TRITURADO X100g</td>\n",
              "      <td>4</td>\n",
              "      <td>1700</td>\n",
              "      <td>6800</td>\n",
              "      <td>9f04044e</td>\n",
              "      <td>2023-02-14</td>\n",
              "      <td>2023-02-14 16:29:30</td>\n",
              "    </tr>\n",
              "    <tr>\n",
              "      <th>25155</th>\n",
              "      <td>fda22a91</td>\n",
              "      <td>b79e3a87</td>\n",
              "      <td>242</td>\n",
              "      <td>POLVO DE HORNEAR X 500 G</td>\n",
              "      <td>4</td>\n",
              "      <td>7000</td>\n",
              "      <td>28000</td>\n",
              "      <td>9f04044e</td>\n",
              "      <td>2023-02-06</td>\n",
              "      <td>2023-02-07 18:36:18</td>\n",
              "    </tr>\n",
              "    <tr>\n",
              "      <th>25156</th>\n",
              "      <td>59091ce9</td>\n",
              "      <td>84e01d43</td>\n",
              "      <td>243</td>\n",
              "      <td>ANIS COMUN X20G</td>\n",
              "      <td>6</td>\n",
              "      <td>1200</td>\n",
              "      <td>7200</td>\n",
              "      <td>c5abb107</td>\n",
              "      <td>2023-03-02</td>\n",
              "      <td>2023-03-03 01:22:23</td>\n",
              "    </tr>\n",
              "    <tr>\n",
              "      <th>25157</th>\n",
              "      <td>413bce8c</td>\n",
              "      <td>099b611a</td>\n",
              "      <td>244</td>\n",
              "      <td>SAL NITRO X30G</td>\n",
              "      <td>6</td>\n",
              "      <td>800</td>\n",
              "      <td>4800</td>\n",
              "      <td>9f04044e</td>\n",
              "      <td>2023-03-13</td>\n",
              "      <td>2023-03-13 18:40:35</td>\n",
              "    </tr>\n",
              "  </tbody>\n",
              "</table>\n",
              "<p>25158 rows × 10 columns</p>\n",
              "</div>\n",
              "      <button class=\"colab-df-convert\" onclick=\"convertToInteractive('df-6066cb1c-4ca1-4c63-905a-3a62494b27ff')\"\n",
              "              title=\"Convert this dataframe to an interactive table.\"\n",
              "              style=\"display:none;\">\n",
              "        \n",
              "  <svg xmlns=\"http://www.w3.org/2000/svg\" height=\"24px\"viewBox=\"0 0 24 24\"\n",
              "       width=\"24px\">\n",
              "    <path d=\"M0 0h24v24H0V0z\" fill=\"none\"/>\n",
              "    <path d=\"M18.56 5.44l.94 2.06.94-2.06 2.06-.94-2.06-.94-.94-2.06-.94 2.06-2.06.94zm-11 1L8.5 8.5l.94-2.06 2.06-.94-2.06-.94L8.5 2.5l-.94 2.06-2.06.94zm10 10l.94 2.06.94-2.06 2.06-.94-2.06-.94-.94-2.06-.94 2.06-2.06.94z\"/><path d=\"M17.41 7.96l-1.37-1.37c-.4-.4-.92-.59-1.43-.59-.52 0-1.04.2-1.43.59L10.3 9.45l-7.72 7.72c-.78.78-.78 2.05 0 2.83L4 21.41c.39.39.9.59 1.41.59.51 0 1.02-.2 1.41-.59l7.78-7.78 2.81-2.81c.8-.78.8-2.07 0-2.86zM5.41 20L4 18.59l7.72-7.72 1.47 1.35L5.41 20z\"/>\n",
              "  </svg>\n",
              "      </button>\n",
              "      \n",
              "  <style>\n",
              "    .colab-df-container {\n",
              "      display:flex;\n",
              "      flex-wrap:wrap;\n",
              "      gap: 12px;\n",
              "    }\n",
              "\n",
              "    .colab-df-convert {\n",
              "      background-color: #E8F0FE;\n",
              "      border: none;\n",
              "      border-radius: 50%;\n",
              "      cursor: pointer;\n",
              "      display: none;\n",
              "      fill: #1967D2;\n",
              "      height: 32px;\n",
              "      padding: 0 0 0 0;\n",
              "      width: 32px;\n",
              "    }\n",
              "\n",
              "    .colab-df-convert:hover {\n",
              "      background-color: #E2EBFA;\n",
              "      box-shadow: 0px 1px 2px rgba(60, 64, 67, 0.3), 0px 1px 3px 1px rgba(60, 64, 67, 0.15);\n",
              "      fill: #174EA6;\n",
              "    }\n",
              "\n",
              "    [theme=dark] .colab-df-convert {\n",
              "      background-color: #3B4455;\n",
              "      fill: #D2E3FC;\n",
              "    }\n",
              "\n",
              "    [theme=dark] .colab-df-convert:hover {\n",
              "      background-color: #434B5C;\n",
              "      box-shadow: 0px 1px 3px 1px rgba(0, 0, 0, 0.15);\n",
              "      filter: drop-shadow(0px 1px 2px rgba(0, 0, 0, 0.3));\n",
              "      fill: #FFFFFF;\n",
              "    }\n",
              "  </style>\n",
              "\n",
              "      <script>\n",
              "        const buttonEl =\n",
              "          document.querySelector('#df-6066cb1c-4ca1-4c63-905a-3a62494b27ff button.colab-df-convert');\n",
              "        buttonEl.style.display =\n",
              "          google.colab.kernel.accessAllowed ? 'block' : 'none';\n",
              "\n",
              "        async function convertToInteractive(key) {\n",
              "          const element = document.querySelector('#df-6066cb1c-4ca1-4c63-905a-3a62494b27ff');\n",
              "          const dataTable =\n",
              "            await google.colab.kernel.invokeFunction('convertToInteractive',\n",
              "                                                     [key], {});\n",
              "          if (!dataTable) return;\n",
              "\n",
              "          const docLinkHtml = 'Like what you see? Visit the ' +\n",
              "            '<a target=\"_blank\" href=https://colab.research.google.com/notebooks/data_table.ipynb>data table notebook</a>'\n",
              "            + ' to learn more about interactive tables.';\n",
              "          element.innerHTML = '';\n",
              "          dataTable['output_type'] = 'display_data';\n",
              "          await google.colab.output.renderOutput(dataTable, element);\n",
              "          const docLink = document.createElement('div');\n",
              "          docLink.innerHTML = docLinkHtml;\n",
              "          element.appendChild(docLink);\n",
              "        }\n",
              "      </script>\n",
              "    </div>\n",
              "  </div>\n",
              "  "
            ]
          },
          "metadata": {},
          "execution_count": 15
        }
      ]
    },
    {
      "cell_type": "markdown",
      "source": [
        "# Análise dos dados tratados"
      ],
      "metadata": {
        "id": "d2JqJGAf5QsL"
      }
    },
    {
      "cell_type": "markdown",
      "source": [
        "## Análise por produto"
      ],
      "metadata": {
        "id": "YeEC3DLj5YTD"
      }
    },
    {
      "cell_type": "code",
      "source": [
        "produtos  =sales.groupby(by = 'cdProduto')[['quantidade']].sum()\n",
        "top5 = produtos.sort_values(by='quantidade', ascending = False).head()\n",
        "top5.reset_index(inplace=True)"
      ],
      "metadata": {
        "id": "QSOeWPzz5SzZ"
      },
      "execution_count": 71,
      "outputs": []
    },
    {
      "cell_type": "code",
      "source": [
        "df = produtos.reset_index(inplace=True)"
      ],
      "metadata": {
        "id": "2NBLoh5Rg9Cf"
      },
      "execution_count": 46,
      "outputs": []
    },
    {
      "cell_type": "code",
      "source": [
        "sns.barplot(x = 'cdProduto', y = 'quantidade',data =top5,color='blue')"
      ],
      "metadata": {
        "colab": {
          "base_uri": "https://localhost:8080/",
          "height": 466
        },
        "id": "nEBPZKIsMkvn",
        "outputId": "04bb361e-92fe-48d0-851c-bd4d41bd2960"
      },
      "execution_count": 76,
      "outputs": [
        {
          "output_type": "execute_result",
          "data": {
            "text/plain": [
              "<Axes: xlabel='cdProduto', ylabel='quantidade'>"
            ]
          },
          "metadata": {},
          "execution_count": 76
        },
        {
          "output_type": "display_data",
          "data": {
            "text/plain": [
              "<Figure size 640x480 with 1 Axes>"
            ],
            "image/png": "[encoded data removed]"
          },
          "metadata": {}
        }
      ]
    },
    {
      "cell_type": "markdown",
      "source": [
        "Nota-se que os top 5 produtos mais vendidos são os de código 61 , 70, 103 , 125 e 133. Verificaremos agora quais são esses produtos"
      ],
      "metadata": {
        "id": "Lu3thGbkQ085"
      }
    },
    {
      "cell_type": "code",
      "source": [
        "cdProdutos = list(top5['cdProduto'])\n",
        "names = [take_name_products(code,sales) for code in cdProdutos]\n",
        "produtos_mais_vendidos = pd.DataFrame({'cdProduto':cdProdutos,'nomeProduto':names})\n",
        "produtos_mais_vendidos"
      ],
      "metadata": {
        "colab": {
          "base_uri": "https://localhost:8080/",
          "height": 206
        },
        "id": "9EEAzi3DQ_Wb",
        "outputId": "6c6cb9f9-990e-4602-f65c-9dcd05aeb468"
      },
      "execution_count": 112,
      "outputs": [
        {
          "output_type": "execute_result",
          "data": {
            "text/plain": [
              "   cdProduto           nomeProduto\n",
              "0        103    CANELA ASTILLA X5G\n",
              "1        133     AJO MOLIDO X 40 G\n",
              "2        125  ADOBO 7 HIERBAS X60G\n",
              "3         70      CLAVO ENTERO X5G\n",
              "4         61       UVAS PASAS X40G"
            ],
            "text/html": [
              "\n",
              "  <div id=\"df-6313db5e-8138-4c73-845e-3d8c5267e5d5\">\n",
              "    <div class=\"colab-df-container\">\n",
              "      <div>\n",
              "<style scoped>\n",
              "    .dataframe tbody tr th:only-of-type {\n",
              "        vertical-align: middle;\n",
              "    }\n",
              "\n",
              "    .dataframe tbody tr th {\n",
              "        vertical-align: top;\n",
              "    }\n",
              "\n",
              "    .dataframe thead th {\n",
              "        text-align: right;\n",
              "    }\n",
              "</style>\n",
              "<table border=\"1\" class=\"dataframe\">\n",
              "  <thead>\n",
              "    <tr style=\"text-align: right;\">\n",
              "      <th></th>\n",
              "      <th>cdProduto</th>\n",
              "      <th>nomeProduto</th>\n",
              "    </tr>\n",
              "  </thead>\n",
              "  <tbody>\n",
              "    <tr>\n",
              "      <th>0</th>\n",
              "      <td>103</td>\n",
              "      <td>CANELA ASTILLA X5G</td>\n",
              "    </tr>\n",
              "    <tr>\n",
              "      <th>1</th>\n",
              "      <td>133</td>\n",
              "      <td>AJO MOLIDO X 40 G</td>\n",
              "    </tr>\n",
              "    <tr>\n",
              "      <th>2</th>\n",
              "      <td>125</td>\n",
              "      <td>ADOBO 7 HIERBAS X60G</td>\n",
              "    </tr>\n",
              "    <tr>\n",
              "      <th>3</th>\n",
              "      <td>70</td>\n",
              "      <td>CLAVO ENTERO X5G</td>\n",
              "    </tr>\n",
              "    <tr>\n",
              "      <th>4</th>\n",
              "      <td>61</td>\n",
              "      <td>UVAS PASAS X40G</td>\n",
              "    </tr>\n",
              "  </tbody>\n",
              "</table>\n",
              "</div>\n",
              "      <button class=\"colab-df-convert\" onclick=\"convertToInteractive('df-6313db5e-8138-4c73-845e-3d8c5267e5d5')\"\n",
              "              title=\"Convert this dataframe to an interactive table.\"\n",
              "              style=\"display:none;\">\n",
              "        \n",
              "  <svg xmlns=\"http://www.w3.org/2000/svg\" height=\"24px\"viewBox=\"0 0 24 24\"\n",
              "       width=\"24px\">\n",
              "    <path d=\"M0 0h24v24H0V0z\" fill=\"none\"/>\n",
              "    <path d=\"M18.56 5.44l.94 2.06.94-2.06 2.06-.94-2.06-.94-.94-2.06-.94 2.06-2.06.94zm-11 1L8.5 8.5l.94-2.06 2.06-.94-2.06-.94L8.5 2.5l-.94 2.06-2.06.94zm10 10l.94 2.06.94-2.06 2.06-.94-2.06-.94-.94-2.06-.94 2.06-2.06.94z\"/><path d=\"M17.41 7.96l-1.37-1.37c-.4-.4-.92-.59-1.43-.59-.52 0-1.04.2-1.43.59L10.3 9.45l-7.72 7.72c-.78.78-.78 2.05 0 2.83L4 21.41c.39.39.9.59 1.41.59.51 0 1.02-.2 1.41-.59l7.78-7.78 2.81-2.81c.8-.78.8-2.07 0-2.86zM5.41 20L4 18.59l7.72-7.72 1.47 1.35L5.41 20z\"/>\n",
              "  </svg>\n",
              "      </button>\n",
              "      \n",
              "  <style>\n",
              "    .colab-df-container {\n",
              "      display:flex;\n",
              "      flex-wrap:wrap;\n",
              "      gap: 12px;\n",
              "    }\n",
              "\n",
              "    .colab-df-convert {\n",
              "      background-color: #E8F0FE;\n",
              "      border: none;\n",
              "      border-radius: 50%;\n",
              "      cursor: pointer;\n",
              "      display: none;\n",
              "      fill: #1967D2;\n",
              "      height: 32px;\n",
              "      padding: 0 0 0 0;\n",
              "      width: 32px;\n",
              "    }\n",
              "\n",
              "    .colab-df-convert:hover {\n",
              "      background-color: #E2EBFA;\n",
              "      box-shadow: 0px 1px 2px rgba(60, 64, 67, 0.3), 0px 1px 3px 1px rgba(60, 64, 67, 0.15);\n",
              "      fill: #174EA6;\n",
              "    }\n",
              "\n",
              "    [theme=dark] .colab-df-convert {\n",
              "      background-color: #3B4455;\n",
              "      fill: #D2E3FC;\n",
              "    }\n",
              "\n",
              "    [theme=dark] .colab-df-convert:hover {\n",
              "      background-color: #434B5C;\n",
              "      box-shadow: 0px 1px 3px 1px rgba(0, 0, 0, 0.15);\n",
              "      filter: drop-shadow(0px 1px 2px rgba(0, 0, 0, 0.3));\n",
              "      fill: #FFFFFF;\n",
              "    }\n",
              "  </style>\n",
              "\n",
              "      <script>\n",
              "        const buttonEl =\n",
              "          document.querySelector('#df-6313db5e-8138-4c73-845e-3d8c5267e5d5 button.colab-df-convert');\n",
              "        buttonEl.style.display =\n",
              "          google.colab.kernel.accessAllowed ? 'block' : 'none';\n",
              "\n",
              "        async function convertToInteractive(key) {\n",
              "          const element = document.querySelector('#df-6313db5e-8138-4c73-845e-3d8c5267e5d5');\n",
              "          const dataTable =\n",
              "            await google.colab.kernel.invokeFunction('convertToInteractive',\n",
              "                                                     [key], {});\n",
              "          if (!dataTable) return;\n",
              "\n",
              "          const docLinkHtml = 'Like what you see? Visit the ' +\n",
              "            '<a target=\"_blank\" href=https://colab.research.google.com/notebooks/data_table.ipynb>data table notebook</a>'\n",
              "            + ' to learn more about interactive tables.';\n",
              "          element.innerHTML = '';\n",
              "          dataTable['output_type'] = 'display_data';\n",
              "          await google.colab.output.renderOutput(dataTable, element);\n",
              "          const docLink = document.createElement('div');\n",
              "          docLink.innerHTML = docLinkHtml;\n",
              "          element.appendChild(docLink);\n",
              "        }\n",
              "      </script>\n",
              "    </div>\n",
              "  </div>\n",
              "  "
            ]
          },
          "metadata": {},
          "execution_count": 112
        }
      ]
    },
    {
      "cell_type": "markdown",
      "source": [
        "Nota-se que os itens mais vendidos são especiarias ou temperos."
      ],
      "metadata": {
        "id": "JgbrP2hzZ0Cz"
      }
    },
    {
      "cell_type": "markdown",
      "source": [
        "## Análise por vendedor"
      ],
      "metadata": {
        "id": "gZd98aKxafoU"
      }
    },
    {
      "cell_type": "code",
      "source": [
        "vendedor = pd.DataFrame(sales.groupby(by = 'vendedor')['precoTotal'].sum())\n",
        "vendedor.reset_index(inplace=True)\n",
        "vendedor"
      ],
      "metadata": {
        "colab": {
          "base_uri": "https://localhost:8080/",
          "height": 175
        },
        "id": "CFeXgvzJalbD",
        "outputId": "c4210cc8-90e2-45d8-de23-4aaa27c374ae"
      },
      "execution_count": 121,
      "outputs": [
        {
          "output_type": "execute_result",
          "data": {
            "text/plain": [
              "   vendedor  precoTotal\n",
              "0  490dc6e8     4755290\n",
              "1  53de5b54     5447290\n",
              "2  9f04044e    36159280\n",
              "3  c5abb107   108653850"
            ],
            "text/html": [
              "\n",
              "  <div id=\"df-0b80d667-3385-4113-b2e4-d2242b71cd34\">\n",
              "    <div class=\"colab-df-container\">\n",
              "      <div>\n",
              "<style scoped>\n",
              "    .dataframe tbody tr th:only-of-type {\n",
              "        vertical-align: middle;\n",
              "    }\n",
              "\n",
              "    .dataframe tbody tr th {\n",
              "        vertical-align: top;\n",
              "    }\n",
              "\n",
              "    .dataframe thead th {\n",
              "        text-align: right;\n",
              "    }\n",
              "</style>\n",
              "<table border=\"1\" class=\"dataframe\">\n",
              "  <thead>\n",
              "    <tr style=\"text-align: right;\">\n",
              "      <th></th>\n",
              "      <th>vendedor</th>\n",
              "      <th>precoTotal</th>\n",
              "    </tr>\n",
              "  </thead>\n",
              "  <tbody>\n",
              "    <tr>\n",
              "      <th>0</th>\n",
              "      <td>490dc6e8</td>\n",
              "      <td>4755290</td>\n",
              "    </tr>\n",
              "    <tr>\n",
              "      <th>1</th>\n",
              "      <td>53de5b54</td>\n",
              "      <td>5447290</td>\n",
              "    </tr>\n",
              "    <tr>\n",
              "      <th>2</th>\n",
              "      <td>9f04044e</td>\n",
              "      <td>36159280</td>\n",
              "    </tr>\n",
              "    <tr>\n",
              "      <th>3</th>\n",
              "      <td>c5abb107</td>\n",
              "      <td>108653850</td>\n",
              "    </tr>\n",
              "  </tbody>\n",
              "</table>\n",
              "</div>\n",
              "      <button class=\"colab-df-convert\" onclick=\"convertToInteractive('df-0b80d667-3385-4113-b2e4-d2242b71cd34')\"\n",
              "              title=\"Convert this dataframe to an interactive table.\"\n",
              "              style=\"display:none;\">\n",
              "        \n",
              "  <svg xmlns=\"http://www.w3.org/2000/svg\" height=\"24px\"viewBox=\"0 0 24 24\"\n",
              "       width=\"24px\">\n",
              "    <path d=\"M0 0h24v24H0V0z\" fill=\"none\"/>\n",
              "    <path d=\"M18.56 5.44l.94 2.06.94-2.06 2.06-.94-2.06-.94-.94-2.06-.94 2.06-2.06.94zm-11 1L8.5 8.5l.94-2.06 2.06-.94-2.06-.94L8.5 2.5l-.94 2.06-2.06.94zm10 10l.94 2.06.94-2.06 2.06-.94-2.06-.94-.94-2.06-.94 2.06-2.06.94z\"/><path d=\"M17.41 7.96l-1.37-1.37c-.4-.4-.92-.59-1.43-.59-.52 0-1.04.2-1.43.59L10.3 9.45l-7.72 7.72c-.78.78-.78 2.05 0 2.83L4 21.41c.39.39.9.59 1.41.59.51 0 1.02-.2 1.41-.59l7.78-7.78 2.81-2.81c.8-.78.8-2.07 0-2.86zM5.41 20L4 18.59l7.72-7.72 1.47 1.35L5.41 20z\"/>\n",
              "  </svg>\n",
              "      </button>\n",
              "      \n",
              "  <style>\n",
              "    .colab-df-container {\n",
              "      display:flex;\n",
              "      flex-wrap:wrap;\n",
              "      gap: 12px;\n",
              "    }\n",
              "\n",
              "    .colab-df-convert {\n",
              "      background-color: #E8F0FE;\n",
              "      border: none;\n",
              "      border-radius: 50%;\n",
              "      cursor: pointer;\n",
              "      display: none;\n",
              "      fill: #1967D2;\n",
              "      height: 32px;\n",
              "      padding: 0 0 0 0;\n",
              "      width: 32px;\n",
              "    }\n",
              "\n",
              "    .colab-df-convert:hover {\n",
              "      background-color: #E2EBFA;\n",
              "      box-shadow: 0px 1px 2px rgba(60, 64, 67, 0.3), 0px 1px 3px 1px rgba(60, 64, 67, 0.15);\n",
              "      fill: #174EA6;\n",
              "    }\n",
              "\n",
              "    [theme=dark] .colab-df-convert {\n",
              "      background-color: #3B4455;\n",
              "      fill: #D2E3FC;\n",
              "    }\n",
              "\n",
              "    [theme=dark] .colab-df-convert:hover {\n",
              "      background-color: #434B5C;\n",
              "      box-shadow: 0px 1px 3px 1px rgba(0, 0, 0, 0.15);\n",
              "      filter: drop-shadow(0px 1px 2px rgba(0, 0, 0, 0.3));\n",
              "      fill: #FFFFFF;\n",
              "    }\n",
              "  </style>\n",
              "\n",
              "      <script>\n",
              "        const buttonEl =\n",
              "          document.querySelector('#df-0b80d667-3385-4113-b2e4-d2242b71cd34 button.colab-df-convert');\n",
              "        buttonEl.style.display =\n",
              "          google.colab.kernel.accessAllowed ? 'block' : 'none';\n",
              "\n",
              "        async function convertToInteractive(key) {\n",
              "          const element = document.querySelector('#df-0b80d667-3385-4113-b2e4-d2242b71cd34');\n",
              "          const dataTable =\n",
              "            await google.colab.kernel.invokeFunction('convertToInteractive',\n",
              "                                                     [key], {});\n",
              "          if (!dataTable) return;\n",
              "\n",
              "          const docLinkHtml = 'Like what you see? Visit the ' +\n",
              "            '<a target=\"_blank\" href=https://colab.research.google.com/notebooks/data_table.ipynb>data table notebook</a>'\n",
              "            + ' to learn more about interactive tables.';\n",
              "          element.innerHTML = '';\n",
              "          dataTable['output_type'] = 'display_data';\n",
              "          await google.colab.output.renderOutput(dataTable, element);\n",
              "          const docLink = document.createElement('div');\n",
              "          docLink.innerHTML = docLinkHtml;\n",
              "          element.appendChild(docLink);\n",
              "        }\n",
              "      </script>\n",
              "    </div>\n",
              "  </div>\n",
              "  "
            ]
          },
          "metadata": {},
          "execution_count": 121
        }
      ]
    },
    {
      "cell_type": "code",
      "source": [
        "total_vendas = vendedor['precoTotal'].sum()"
      ],
      "metadata": {
        "id": "0bEGTD6Mfd88"
      },
      "execution_count": 130,
      "outputs": []
    },
    {
      "cell_type": "code",
      "source": [
        "vendedor['percentualVendas'] = (vendedor['precoTotal']/total_vendas*100)"
      ],
      "metadata": {
        "id": "9tWI8lDkf8nz"
      },
      "execution_count": 131,
      "outputs": []
    },
    {
      "cell_type": "code",
      "source": [
        "sns.barplot(x = 'vendedor', y = 'percentualVendas',data =vendedor,color='blue')"
      ],
      "metadata": {
        "colab": {
          "base_uri": "https://localhost:8080/",
          "height": 466
        },
        "id": "sSG1fHZLgHPk",
        "outputId": "35df012c-52e7-4e08-e548-688528192468"
      },
      "execution_count": 132,
      "outputs": [
        {
          "output_type": "execute_result",
          "data": {
            "text/plain": [
              "<Axes: xlabel='vendedor', ylabel='percentualVendas'>"
            ]
          },
          "metadata": {},
          "execution_count": 132
        },
        {
          "output_type": "display_data",
          "data": {
            "text/plain": [
              "<Figure size 640x480 with 1 Axes>"
            ],
            "image/png": "[encoded data removed]"
          },
          "metadata": {}
        }
      ]
    },
    {
      "cell_type": "markdown",
      "source": [
        "Nota-se que existe uma grande disparidade entre os vendedores, onde 1 vendedor concentra algo em torno de 70% das vendas. "
      ],
      "metadata": {
        "id": "J5KtOPWkheXM"
      }
    }
  ]
}